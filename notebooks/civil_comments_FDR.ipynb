{
 "cells": [
  {
   "cell_type": "code",
   "execution_count": 19,
   "id": "b2ee8eba-31d1-45c0-81e8-ba7b19ea2119",
   "metadata": {
    "tags": []
   },
   "outputs": [],
   "source": [
    "from src.bounds import *\n",
    "import torch\n",
    "from dataclasses import dataclass\n",
    "import numpy as np\n",
    "from src.utils import predict\n",
    "from src.metric import specificity\n",
    "import matplotlib.pyplot as plt"
   ]
  },
  {
   "cell_type": "code",
   "execution_count": 2,
   "id": "8b93719a-6f85-46a7-be23-5105602683bc",
   "metadata": {
    "tags": []
   },
   "outputs": [],
   "source": [
    "save_root = \"../data/civil_comments/\"\n",
    "X = torch.load(save_root+\"X.pt\")\n",
    "y = torch.load(save_root+\"y.pt\")\n",
    "g = torch.load(save_root+\"g.pt\")"
   ]
  },
  {
   "cell_type": "code",
   "execution_count": 3,
   "id": "dc718b94-1357-48aa-81ab-319f7a38ccb8",
   "metadata": {
    "tags": []
   },
   "outputs": [],
   "source": [
    "@dataclass\n",
    "class Split:\n",
    "    X: torch.Tensor\n",
    "    g: torch.Tensor\n",
    "    \n",
    "    \n",
    "def unison_shuffled_copies(a, b, c):\n",
    "    assert len(a) == len(b) and len(b) == len(c)\n",
    "    p = torch.randperm(a.size()[0])\n",
    "    return a[p], b[p], c[p]\n",
    "\n",
    "\n",
    "def fdr(preds, y):\n",
    "    return ((preds / y) == float('inf')).int()"
   ]
  },
  {
   "cell_type": "code",
   "execution_count": 4,
   "id": "38d4f911-a032-4748-b152-7b6aa2513e55",
   "metadata": {
    "tags": []
   },
   "outputs": [],
   "source": [
    "interest_vars = [\"male\", \"female\", \"black\", \"white\"]"
   ]
  },
  {
   "cell_type": "code",
   "execution_count": 5,
   "id": "c4a5e264-b9d5-4117-ba43-4b0c56e17f42",
   "metadata": {
    "tags": []
   },
   "outputs": [],
   "source": [
    "n_val = 2000\n",
    "delta = 0.05\n",
    "num_hypotheses = 100\n",
    "no_groups = len(interest_vars)\n",
    "correction = delta/(num_hypotheses*(no_groups+1))"
   ]
  },
  {
   "cell_type": "code",
   "execution_count": 6,
   "id": "deef0d61-33c4-4722-8c25-6d05565fe923",
   "metadata": {
    "tags": []
   },
   "outputs": [],
   "source": [
    "L_BJ = berk_jones_two_sided(n_val, correction, 0.0, 1.0)"
   ]
  },
  {
   "cell_type": "code",
   "execution_count": 7,
   "id": "31d2bd98-6141-43e1-9635-c6d4868267b0",
   "metadata": {
    "tags": []
   },
   "outputs": [],
   "source": [
    "thresholds = torch.linspace(0.00, 1.0, num_hypotheses)"
   ]
  },
  {
   "cell_type": "code",
   "execution_count": 8,
   "id": "70aa6834-b434-4ea4-ac92-05534e980ed5",
   "metadata": {
    "tags": []
   },
   "outputs": [],
   "source": [
    "preds = torch.gt(X.unsqueeze(-1), thresholds).int()"
   ]
  },
  {
   "cell_type": "code",
   "execution_count": 9,
   "id": "e08e2963-c38b-4afa-bc70-98b8d780edb8",
   "metadata": {
    "tags": []
   },
   "outputs": [
    {
     "data": {
      "text/plain": [
       "(torch.Size([133782, 100]), torch.Size([133782, 4]))"
      ]
     },
     "execution_count": 9,
     "metadata": {},
     "output_type": "execute_result"
    }
   ],
   "source": [
    "loss = fdr(preds.T, y).reshape(-1, num_hypotheses)\n",
    "loss.shape, g.shape"
   ]
  },
  {
   "cell_type": "code",
   "execution_count": 10,
   "id": "ccebed1d-17b3-4c48-ae4b-3fd271b0f1cc",
   "metadata": {
    "tags": []
   },
   "outputs": [],
   "source": [
    "p = torch.randperm(loss.size()[0])\n",
    "loss = loss[p,:]\n",
    "g = g[p,:]"
   ]
  },
  {
   "cell_type": "code",
   "execution_count": 11,
   "id": "224b9e9c-8065-46f7-ba6e-cb19969ee33e",
   "metadata": {
    "tags": []
   },
   "outputs": [],
   "source": [
    "train_split = Split(\n",
    "    X=loss[:n_val],\n",
    "    g=g[:n_val]\n",
    ")\n",
    "\n",
    "test_split = Split(\n",
    "    X=loss[n_val:],\n",
    "    g=g[n_val:]\n",
    ")"
   ]
  },
  {
   "cell_type": "code",
   "execution_count": 12,
   "id": "019133c6-c072-4f3e-aa64-100a73b15e2a",
   "metadata": {
    "tags": []
   },
   "outputs": [],
   "source": [
    "full_aucs = integrate_quantiles(train_split.X.T, L_BJ)"
   ]
  },
  {
   "cell_type": "code",
   "execution_count": 13,
   "id": "43f9aee1-b28d-4512-82e8-2742d7d25cd0",
   "metadata": {
    "tags": []
   },
   "outputs": [
    {
     "name": "stdout",
     "output_type": "stream",
     "text": [
      "male torch.Size([216, 100])\n",
      "female torch.Size([236, 100])\n",
      "black torch.Size([64, 100])\n",
      "white torch.Size([128, 100])\n"
     ]
    }
   ],
   "source": [
    "group_aucs = []\n",
    "\n",
    "for ind, var in enumerate(interest_vars):\n",
    "    \n",
    "    X_g = train_split.X[torch.where(train_split.g[:,ind] == 1)[0]]\n",
    "    print(var, X_g.shape)\n",
    "    L_BJ_g = berk_jones_two_sided(X_g.shape[0], correction, 0.0, 1.0)\n",
    "    aucs_g = integrate_quantiles(X_g.T, L_BJ_g)\n",
    "    group_aucs.append(torch.Tensor(aucs_g))\n",
    "\n",
    "group_aucs = torch.vstack(group_aucs)\n",
    "group_diff = (torch.max(group_aucs, 0)[0]-torch.min(group_aucs, 0)[0]).numpy()"
   ]
  },
  {
   "cell_type": "code",
   "execution_count": 14,
   "id": "2a809269-51df-43c2-8260-54883d61fe69",
   "metadata": {
    "tags": []
   },
   "outputs": [
    {
     "data": {
      "text/plain": [
       "(2, 0.0960720179734853)"
      ]
     },
     "execution_count": 14,
     "metadata": {},
     "output_type": "execute_result"
    }
   ],
   "source": [
    "total_loss = full_aucs+group_diff\n",
    "\n",
    "best_ind = np.argmin(total_loss)\n",
    "best_guar = total_loss[best_ind]\n",
    "best_ind, best_guar"
   ]
  },
  {
   "cell_type": "code",
   "execution_count": 15,
   "id": "26719e0e-0d88-4564-b0ae-9ccf66e34f80",
   "metadata": {
    "tags": []
   },
   "outputs": [
    {
     "data": {
      "text/plain": [
       "(0.06413055939060719,\n",
       " array([0.07878688, 0.07637168, 0.06413056, 0.07455367, 0.07878688,\n",
       "        0.07333836, 0.07878688, 0.07455367, 0.07212034, 0.07697641,\n",
       "        0.07089951, 0.07878688, 0.07394635, 0.07576632, 0.07089951,\n",
       "        0.07697641, 0.07516032, 0.07758051, 0.08418676, 0.07758051,\n",
       "        0.083589  , 0.08776235, 0.0727297 , 0.07089951, 0.07394635,\n",
       "        0.07938916, 0.07938916, 0.07028801, 0.08538069, 0.07878688,\n",
       "        0.07455367, 0.07212034, 0.07516032, 0.07576632, 0.06474998,\n",
       "        0.06844906, 0.06598627, 0.07697641, 0.07455367, 0.06660317,\n",
       "        0.07697641, 0.07455367, 0.07394635, 0.08239185, 0.06967578,\n",
       "        0.07212034, 0.07333836, 0.07455367, 0.07028801, 0.06413056,\n",
       "        0.06967578, 0.08418676, 0.06660317, 0.07333836, 0.06660317,\n",
       "        0.078184  , 0.07028801, 0.08059196, 0.07151028, 0.08418676,\n",
       "        0.06351027, 0.08179245, 0.07697641, 0.08179245, 0.07938916,\n",
       "        0.05976936, 0.07697641, 0.07999085, 0.07516032, 0.07212034,\n",
       "        0.078184  , 0.07212034, 0.07455367, 0.07999085, 0.06844906,\n",
       "        0.0727297 , 0.06721926, 0.08179245, 0.06721926, 0.07516032,\n",
       "        0.06844906, 0.07999085, 0.06474998, 0.0690628 , 0.0829907 ,\n",
       "        0.06967578, 0.06783456, 0.06721926, 0.07758051, 0.0829907 ,\n",
       "        0.07576632, 0.06721926, 0.08835652, 0.07089951, 0.07455367,\n",
       "        0.07758051, 0.06721926, 0.07637168, 0.07637168, 0.07455367]))"
      ]
     },
     "execution_count": 15,
     "metadata": {},
     "output_type": "execute_result"
    }
   ],
   "source": [
    "full_aucs[best_ind], full_aucs"
   ]
  },
  {
   "cell_type": "code",
   "execution_count": 16,
   "id": "a787a8ff-df51-458e-9900-e19657d179f5",
   "metadata": {
    "tags": []
   },
   "outputs": [
    {
     "data": {
      "text/plain": [
       "(0.03194146,\n",
       " array([0.16357277, 0.07371585, 0.03194146, 0.17022635, 0.1415991 ,\n",
       "        0.09789206, 0.13125747, 0.09159675, 0.15867308, 0.12530768,\n",
       "        0.07371585, 0.09904481, 0.18088272, 0.0465346 , 0.11951613,\n",
       "        0.06152304, 0.14435644, 0.09751938, 0.16424663, 0.13815679,\n",
       "        0.15065175, 0.11067563, 0.12658231, 0.11281271, 0.16818614,\n",
       "        0.16198649, 0.12658231, 0.12658231, 0.09242533, 0.15480742,\n",
       "        0.10429333, 0.09789206, 0.15587379, 0.14435644, 0.14488228,\n",
       "        0.12530768, 0.06152304, 0.09916669, 0.1337951 , 0.14875017,\n",
       "        0.14435644, 0.15192638, 0.14117545, 0.06731458, 0.12530768,\n",
       "        0.17448145, 0.16357277, 0.17409424, 0.11746666, 0.13125747,\n",
       "        0.19792394, 0.1549336 , 0.13170895, 0.11281271, 0.10637948,\n",
       "        0.11951613, 0.075802  , 0.16198649, 0.15168887, 0.0716292 ,\n",
       "        0.10637948, 0.17758113, 0.08516423, 0.14388087, 0.13204409,\n",
       "        0.1128331 , 0.20353025, 0.16651952, 0.1337951 , 0.08225562,\n",
       "        0.16357277, 0.15192638, 0.14486021, 0.15705302, 0.09159675,\n",
       "        0.09789206, 0.18740247, 0.13815679, 0.16818614, 0.11776941,\n",
       "        0.11951613, 0.13170895, 0.08688918, 0.0586437 , 0.06858921,\n",
       "        0.19405605, 0.12133455, 0.09789206, 0.15587379, 0.11901237,\n",
       "        0.10637948, 0.14488228, 0.10670002, 0.11375983, 0.16198649,\n",
       "        0.11281271, 0.11746666, 0.11281271, 0.10066691, 0.09916669],\n",
       "       dtype=float32))"
      ]
     },
     "execution_count": 16,
     "metadata": {},
     "output_type": "execute_result"
    }
   ],
   "source": [
    "group_diff[best_ind], group_diff"
   ]
  },
  {
   "cell_type": "code",
   "execution_count": 17,
   "id": "1764cffd-5216-43d4-876e-ce9fc97f442c",
   "metadata": {
    "tags": []
   },
   "outputs": [
    {
     "data": {
      "text/plain": [
       "(tensor(0.0449), tensor(0.0012))"
      ]
     },
     "execution_count": 17,
     "metadata": {},
     "output_type": "execute_result"
    }
   ],
   "source": [
    "test_fdr = torch.mean(test_split.X[:, best_ind].float())\n",
    "\n",
    "group_fdr = []\n",
    "\n",
    "max_fdr = 0.0\n",
    "min_fdr = 1.0\n",
    "for ind, var in enumerate(interest_vars):\n",
    "    \n",
    "    X_g = test_split.X[torch.where(test_split.g[:,ind] == 1)[0]][:, best_ind].float()\n",
    "    group_fdr = torch.mean(X_g)\n",
    "    max_fdr = max(max_fdr, group_fdr)\n",
    "    min_fdr = min(min_fdr, group_fdr)\n",
    "    \n",
    "max_group_diff = max_fdr - min_fdr\n",
    "\n",
    "test_fdr, max_group_diff"
   ]
  },
  {
   "cell_type": "markdown",
   "id": "d89cfaa1-d152-405d-a11b-a00c8a3d4b5b",
   "metadata": {},
   "source": [
    "We choose a classification threshold that minimizes an upper bound on:\n",
    "$$\n",
    "E[L(X)]+ \\sup_{g,g'} |L(g)-L(g')|\n",
    "$$\n",
    "for $G=\\{\\text{black}, \\text{white}, \\text{female}, \\text{male}\\}$ and FDR loss."
   ]
  },
  {
   "cell_type": "code",
   "execution_count": 20,
   "id": "b10581fa-5a72-41cb-a14c-d07d5df1b264",
   "metadata": {},
   "outputs": [
    {
     "data": {
      "image/png": "[encoded data removed]",
      "text/plain": [
       "<Figure size 1500x300 with 3 Axes>"
      ]
     },
     "metadata": {},
     "output_type": "display_data"
    }
   ],
   "source": [
    "plt.rcParams[\"figure.figsize\"] = (15,3)\n",
    "fig, ax = plt.subplots(1,3) \n",
    "\n",
    "ax[0].scatter(thresholds, full_aucs)\n",
    "ax[0].set_xlabel(\"Threshold\")\n",
    "ax[0].set_ylabel(\"Loss Guarantee\")\n",
    "ax[0].set_title(\"Expected\")\n",
    "\n",
    "ax[1].scatter(thresholds, group_diff)\n",
    "ax[1].set_xlabel(\"Threshold\")\n",
    "ax[1].set_title(\"Max. Group Diff\")\n",
    "\n",
    "ax[2].scatter(thresholds, total_loss)\n",
    "ax[2].set_xlabel(\"Threshold\")\n",
    "ax[2].set_title(\"Total\")\n",
    "\n",
    "plt.show()"
   ]
  },
  {
   "cell_type": "code",
   "execution_count": 21,
   "id": "4927ec74-9650-4152-b865-07b4befb8e1f",
   "metadata": {
    "tags": []
   },
   "outputs": [
    {
     "name": "stdout",
     "output_type": "stream",
     "text": [
      "guarantee: 0.0960720179734853 | actual: 0.046074751764535904\n"
     ]
    }
   ],
   "source": [
    "actual_loss = (test_fdr + max_group_diff).item()\n",
    "print(\"guarantee:\", best_guar, \"| actual:\", actual_loss)"
   ]
  },
  {
   "cell_type": "code",
   "execution_count": null,
   "id": "c5a6615f-0b10-4a19-a4a7-e309a74c8997",
   "metadata": {},
   "outputs": [],
   "source": []
  }
 ],
 "metadata": {
  "kernelspec": {
   "display_name": "Python 3 (ipykernel)",
   "language": "python",
   "name": "python3"
  },
  "language_info": {
   "codemirror_mode": {
    "name": "ipython",
    "version": 3
   },
   "file_extension": ".py",
   "mimetype": "text/x-python",
   "name": "python",
   "nbconvert_exporter": "python",
   "pygments_lexer": "ipython3",
   "version": "3.10.9"
  }
 },
 "nbformat": 4,
 "nbformat_minor": 5
}
