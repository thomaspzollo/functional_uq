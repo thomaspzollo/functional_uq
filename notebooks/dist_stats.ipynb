{
 "cells": [
  {
   "cell_type": "code",
   "execution_count": 1,
   "id": "bd352126-4078-402a-8a60-839528f38337",
   "metadata": {
    "tags": []
   },
   "outputs": [],
   "source": [
    "import numpy as np\n",
    "import torch\n",
    "from var_control.optimization import *"
   ]
  },
  {
   "cell_type": "code",
   "execution_count": 2,
   "id": "539be517-bd41-42f7-a3f2-6cd3da779d01",
   "metadata": {
    "tags": []
   },
   "outputs": [],
   "source": [
    "n=50000"
   ]
  },
  {
   "cell_type": "code",
   "execution_count": 3,
   "id": "1d7a9596-4f32-4ead-9c38-90d8941b5634",
   "metadata": {
    "tags": []
   },
   "outputs": [],
   "source": [
    "X = np.random.rand(1, n+1)\n",
    "X = X[0]\n",
    "X = np.sort(X, axis=-1)\n",
    "X[n] = X[n-1]\n",
    "test_loss = X.astype('float64')"
   ]
  },
  {
   "cell_type": "code",
   "execution_count": 4,
   "id": "81a49267-88b6-422c-942e-46db2bcc215e",
   "metadata": {
    "tags": []
   },
   "outputs": [
    {
     "data": {
      "text/plain": [
       "0.5022137207662785"
      ]
     },
     "execution_count": 4,
     "metadata": {},
     "output_type": "execute_result"
    }
   ],
   "source": [
    "np.mean(test_loss)"
   ]
  },
  {
   "cell_type": "code",
   "execution_count": 5,
   "id": "03772c17-e237-426c-a530-5f42599d2717",
   "metadata": {
    "tags": []
   },
   "outputs": [
    {
     "data": {
      "text/plain": [
       "tensor([0.5022], device='cuda:0')"
      ]
     },
     "execution_count": 5,
     "metadata": {},
     "output_type": "execute_result"
    }
   ],
   "source": [
    "b = np.arange(1, test_loss.shape[-1] + 1) / test_loss.shape[-1]\n",
    "\n",
    "quantile_based_loss(\n",
    "    torch.Tensor(test_loss).view(1,-1).cuda(), \n",
    "    torch.Tensor(b).cuda()\n",
    ")"
   ]
  },
  {
   "cell_type": "code",
   "execution_count": 6,
   "id": "536f591e-a4a1-45bd-8773-482d45e0c09d",
   "metadata": {
    "tags": []
   },
   "outputs": [
    {
     "data": {
      "text/plain": [
       "tensor([0.5031], device='cuda:0')"
      ]
     },
     "execution_count": 6,
     "metadata": {},
     "output_type": "execute_result"
    }
   ],
   "source": [
    "quantile_based_loss(\n",
    "    torch.Tensor(test_loss).view(1,-1).cuda(), \n",
    "    torch.Tensor(b).cuda(),\n",
    "    beta_min=0.25,\n",
    "    beta_max=0.75\n",
    ")"
   ]
  },
  {
   "cell_type": "code",
   "execution_count": 7,
   "id": "8a673e5c-ceef-4d5e-8d01-92a29ac7b39c",
   "metadata": {
    "tags": []
   },
   "outputs": [
    {
     "data": {
      "text/plain": [
       "tensor([0.8769], device='cuda:0')"
      ]
     },
     "execution_count": 7,
     "metadata": {},
     "output_type": "execute_result"
    }
   ],
   "source": [
    "quantile_based_loss(\n",
    "    torch.Tensor(test_loss).view(1,-1).cuda(), \n",
    "    torch.Tensor(b).cuda(),\n",
    "    beta_min=0.75,\n",
    "    beta_max=1.0\n",
    ")"
   ]
  },
  {
   "cell_type": "code",
   "execution_count": 8,
   "id": "ac74383b-1475-400e-95ee-a1d2fba75cbf",
   "metadata": {
    "tags": []
   },
   "outputs": [
    {
     "data": {
      "text/plain": [
       "tensor([0.3346], device='cuda:0')"
      ]
     },
     "execution_count": 8,
     "metadata": {},
     "output_type": "execute_result"
    }
   ],
   "source": [
    "quantile_based_loss(\n",
    "    torch.Tensor(test_loss).view(1,-1).cuda(), \n",
    "    torch.Tensor(b).cuda(),\n",
    "    weighted=True\n",
    ")"
   ]
  },
  {
   "cell_type": "code",
   "execution_count": 16,
   "id": "e2fac59e-07cc-4b41-be70-f435dc782e42",
   "metadata": {
    "tags": []
   },
   "outputs": [
    {
     "data": {
      "text/plain": [
       "tensor([0.2006], device='cuda:0')"
      ]
     },
     "execution_count": 16,
     "metadata": {},
     "output_type": "execute_result"
    }
   ],
   "source": [
    "quantile_based_loss(\n",
    "    torch.Tensor(test_loss).view(1,-1).cuda(), \n",
    "    torch.Tensor(b).cuda(),\n",
    "    weighted=True,\n",
    "    weight_d=3\n",
    ")"
   ]
  },
  {
   "cell_type": "code",
   "execution_count": 12,
   "id": "9c80cd35-1484-44e4-9a50-ffd80539ff78",
   "metadata": {
    "tags": []
   },
   "outputs": [],
   "source": [
    "q = (0.5)/(0.6)"
   ]
  },
  {
   "cell_type": "code",
   "execution_count": 13,
   "id": "5c5b0b59-6c62-4ce3-a335-f92260602f12",
   "metadata": {},
   "outputs": [
    {
     "data": {
      "text/plain": [
       "tensor([0.5777], device='cuda:0')"
      ]
     },
     "execution_count": 13,
     "metadata": {},
     "output_type": "execute_result"
    }
   ],
   "source": [
    "q*quantile_based_loss(\n",
    "    torch.Tensor(test_loss).view(1,-1).cuda(), \n",
    "    torch.Tensor(b).cuda(),\n",
    "    beta_min=0.25,\n",
    "    beta_max=0.75\n",
    ")+(1-q)*quantile_based_loss(\n",
    "    torch.Tensor(test_loss).view(1,-1).cuda(), \n",
    "    torch.Tensor(b).cuda(),\n",
    "    beta_min=0.9,\n",
    "    beta_max=1.0\n",
    ")"
   ]
  },
  {
   "cell_type": "code",
   "execution_count": null,
   "id": "5fd7f7a7-1202-4ec1-b690-7b4102b69916",
   "metadata": {},
   "outputs": [],
   "source": []
  }
 ],
 "metadata": {
  "kernelspec": {
   "display_name": "Python 3 (ipykernel)",
   "language": "python",
   "name": "python3"
  },
  "language_info": {
   "codemirror_mode": {
    "name": "ipython",
    "version": 3
   },
   "file_extension": ".py",
   "mimetype": "text/x-python",
   "name": "python",
   "nbconvert_exporter": "python",
   "pygments_lexer": "ipython3",
   "version": "3.10.9"
  }
 },
 "nbformat": 4,
 "nbformat_minor": 5
}
