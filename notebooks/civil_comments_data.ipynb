{
 "cells": [
  {
   "cell_type": "code",
   "execution_count": 1,
   "id": "e0de9072-9bcb-42a5-bc6e-e82564850c9e",
   "metadata": {
    "tags": []
   },
   "outputs": [],
   "source": [
    "from detoxify import Detoxify\n",
    "from tqdm import tqdm\n",
    "from wilds import get_dataset\n",
    "from wilds.common.data_loaders import get_train_loader\n",
    "from wilds.common.grouper import CombinatorialGrouper\n",
    "import torch"
   ]
  },
  {
   "cell_type": "code",
   "execution_count": 2,
   "id": "2606302f-c31c-45ca-84bf-37f890d7b3ec",
   "metadata": {
    "tags": []
   },
   "outputs": [],
   "source": [
    "model = Detoxify('original', device='cuda')"
   ]
  },
  {
   "cell_type": "code",
   "execution_count": 3,
   "id": "da9aa377-e3c4-4e5e-a834-3522385847ee",
   "metadata": {
    "tags": []
   },
   "outputs": [],
   "source": [
    "dataset = get_dataset(dataset=\"civilcomments\", download=True)"
   ]
  },
  {
   "cell_type": "code",
   "execution_count": 4,
   "id": "0c583933-a239-4866-8e3c-e9e9a2d6a7ea",
   "metadata": {
    "tags": []
   },
   "outputs": [],
   "source": [
    "subset = \"train\"\n",
    "data = dataset.get_subset(subset)\n",
    "loader = get_train_loader(\"standard\", data, batch_size=128)"
   ]
  },
  {
   "cell_type": "code",
   "execution_count": 5,
   "id": "5f23704c-b851-47d9-acc0-abee42589725",
   "metadata": {
    "tags": []
   },
   "outputs": [],
   "source": [
    "meta_vars = [\n",
    "    'male',\n",
    "    'female',\n",
    "    'LGBTQ',\n",
    "    'christian',\n",
    "    'muslim',\n",
    "    'other_religions',\n",
    "    'black',\n",
    "    'white',\n",
    "    'identity_any',\n",
    "    'severe_toxicity',\n",
    "    'obscene',\n",
    "    'threat',\n",
    "    'insult',\n",
    "    'identity_attack',\n",
    "    'sexual_explicit'\n",
    "]\n",
    "len(meta_vars)\n",
    "interest_vars = [\"male\", \"female\", \"black\", \"white\"]\n",
    "interest_ind = [meta_vars.index(v) for v in interest_vars]"
   ]
  },
  {
   "cell_type": "code",
   "execution_count": 6,
   "id": "bf95bf93-1cf2-4274-a5fc-f20f7e501250",
   "metadata": {
    "tags": []
   },
   "outputs": [
    {
     "name": "stderr",
     "output_type": "stream",
     "text": [
      "100%|████████████████████████████████████████████████████████████████| 2102/2102 [26:52<00:00,  1.30it/s]\n"
     ]
    }
   ],
   "source": [
    "predictions = []\n",
    "labels = []\n",
    "groups = []\n",
    "\n",
    "for idx, batch in enumerate(tqdm(loader)):\n",
    "    \n",
    "    x, y, meta = batch\n",
    "    pred = model.predict(x)[\"toxicity\"]\n",
    "    g = meta[:, interest_ind]\n",
    "\n",
    "    predictions.extend(list(pred))\n",
    "    labels.extend(y.tolist())\n",
    "    groups.append(g)\n",
    "    \n",
    "#     grouper = CombinatorialGrouper(dataset, [\"male\"])\n",
    "#     print(grouper.metadata_to_group(meta))\n",
    "    \n",
    "#     grouper = CombinatorialGrouper(dataset, [\"female\"])\n",
    "#     print(grouper.metadata_to_group(meta))\n",
    "    \n",
    "#     grouper = CombinatorialGrouper(dataset, [\"black\"])\n",
    "#     print(grouper.metadata_to_group(meta))\n",
    "    \n",
    "#     grouper = CombinatorialGrouper(dataset, [\"white\"])\n",
    "#     print(grouper.metadata_to_group(meta))\n",
    "    \n",
    "#     print(\"g\")\n",
    "#     print(g)\n",
    "\n",
    "#     if idx >= 20:\n",
    "#         break"
   ]
  },
  {
   "cell_type": "code",
   "execution_count": 7,
   "id": "5b442098-2dc1-4c16-a223-b0505d6445d5",
   "metadata": {},
   "outputs": [
    {
     "data": {
      "text/plain": [
       "(torch.Size([269038]), torch.Size([269038]), torch.Size([269038, 4]))"
      ]
     },
     "execution_count": 7,
     "metadata": {},
     "output_type": "execute_result"
    }
   ],
   "source": [
    "X = torch.Tensor(predictions)\n",
    "y = torch.Tensor(labels)\n",
    "g = torch.concat(groups)\n",
    "\n",
    "X.shape, y.shape, g.shape"
   ]
  },
  {
   "cell_type": "code",
   "execution_count": 8,
   "id": "f74cb763-c286-465e-b850-a055c6174720",
   "metadata": {
    "tags": []
   },
   "outputs": [
    {
     "data": {
      "text/plain": [
       "tensor([29810, 36244,  9896, 16698])"
      ]
     },
     "execution_count": 8,
     "metadata": {},
     "output_type": "execute_result"
    }
   ],
   "source": [
    "g.sum(0)"
   ]
  },
  {
   "cell_type": "code",
   "execution_count": 9,
   "id": "f0574102-be55-462a-98ca-f779c87c6855",
   "metadata": {
    "tags": []
   },
   "outputs": [],
   "source": [
    "save_root = \"../data/civil_comments/\"\n",
    "torch.save(X.cpu(), save_root+\"X_{}.pt\".format(subset))\n",
    "torch.save(y.cpu(), save_root+\"y_{}.pt\".format(subset))\n",
    "torch.save(g.cpu(), save_root+\"g_{}.pt\".format(subset))"
   ]
  },
  {
   "cell_type": "code",
   "execution_count": null,
   "id": "9b4e7926-7f89-498b-a994-41f94fdc6da4",
   "metadata": {},
   "outputs": [],
   "source": []
  }
 ],
 "metadata": {
  "kernelspec": {
   "display_name": "Python 3 (ipykernel)",
   "language": "python",
   "name": "python3"
  },
  "language_info": {
   "codemirror_mode": {
    "name": "ipython",
    "version": 3
   },
   "file_extension": ".py",
   "mimetype": "text/x-python",
   "name": "python",
   "nbconvert_exporter": "python",
   "pygments_lexer": "ipython3",
   "version": "3.10.9"
  }
 },
 "nbformat": 4,
 "nbformat_minor": 5
}
