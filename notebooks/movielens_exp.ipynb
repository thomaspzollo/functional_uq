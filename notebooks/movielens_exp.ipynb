{
 "cells": [
  {
   "cell_type": "code",
   "execution_count": 1,
   "id": "f3d0a66d-21fa-43cf-bb6d-c461f1f0eebf",
   "metadata": {
    "tags": []
   },
   "outputs": [],
   "source": [
    "from lightfm import LightFM\n",
    "from lightfm.evaluation import precision_at_k, auc_score, recall_at_k\n",
    "import numpy as np\n",
    "import pandas as pd\n",
    "import matplotlib.pyplot as plt\n",
    "import torch"
   ]
  },
  {
   "cell_type": "code",
   "execution_count": 2,
   "id": "07c75117-f819-4bfd-9f63-69d59b957bd8",
   "metadata": {
    "tags": []
   },
   "outputs": [],
   "source": [
    "data_root = \"../data/ml-1m/\""
   ]
  },
  {
   "cell_type": "code",
   "execution_count": 3,
   "id": "096fc454-58ac-4a6a-804e-e2710a3053c2",
   "metadata": {
    "tags": []
   },
   "outputs": [
    {
     "data": {
      "text/html": [
       "<div>\n",
       "<style scoped>\n",
       "    .dataframe tbody tr th:only-of-type {\n",
       "        vertical-align: middle;\n",
       "    }\n",
       "\n",
       "    .dataframe tbody tr th {\n",
       "        vertical-align: top;\n",
       "    }\n",
       "\n",
       "    .dataframe thead th {\n",
       "        text-align: right;\n",
       "    }\n",
       "</style>\n",
       "<table border=\"1\" class=\"dataframe\">\n",
       "  <thead>\n",
       "    <tr style=\"text-align: right;\">\n",
       "      <th></th>\n",
       "      <th>userID</th>\n",
       "      <th>movieID</th>\n",
       "      <th>Rating</th>\n",
       "      <th>Timestamp</th>\n",
       "    </tr>\n",
       "  </thead>\n",
       "  <tbody>\n",
       "    <tr>\n",
       "      <th>31</th>\n",
       "      <td>1</td>\n",
       "      <td>3186</td>\n",
       "      <td>4</td>\n",
       "      <td>978300019</td>\n",
       "    </tr>\n",
       "    <tr>\n",
       "      <th>22</th>\n",
       "      <td>1</td>\n",
       "      <td>1270</td>\n",
       "      <td>5</td>\n",
       "      <td>978300055</td>\n",
       "    </tr>\n",
       "    <tr>\n",
       "      <th>27</th>\n",
       "      <td>1</td>\n",
       "      <td>1721</td>\n",
       "      <td>4</td>\n",
       "      <td>978300055</td>\n",
       "    </tr>\n",
       "    <tr>\n",
       "      <th>37</th>\n",
       "      <td>1</td>\n",
       "      <td>1022</td>\n",
       "      <td>5</td>\n",
       "      <td>978300055</td>\n",
       "    </tr>\n",
       "    <tr>\n",
       "      <th>24</th>\n",
       "      <td>1</td>\n",
       "      <td>2340</td>\n",
       "      <td>3</td>\n",
       "      <td>978300103</td>\n",
       "    </tr>\n",
       "    <tr>\n",
       "      <th>...</th>\n",
       "      <td>...</td>\n",
       "      <td>...</td>\n",
       "      <td>...</td>\n",
       "      <td>...</td>\n",
       "    </tr>\n",
       "    <tr>\n",
       "      <th>1000019</th>\n",
       "      <td>6040</td>\n",
       "      <td>2917</td>\n",
       "      <td>4</td>\n",
       "      <td>997454429</td>\n",
       "    </tr>\n",
       "    <tr>\n",
       "      <th>999988</th>\n",
       "      <td>6040</td>\n",
       "      <td>1921</td>\n",
       "      <td>4</td>\n",
       "      <td>997454464</td>\n",
       "    </tr>\n",
       "    <tr>\n",
       "      <th>1000172</th>\n",
       "      <td>6040</td>\n",
       "      <td>1784</td>\n",
       "      <td>3</td>\n",
       "      <td>997454464</td>\n",
       "    </tr>\n",
       "    <tr>\n",
       "      <th>1000167</th>\n",
       "      <td>6040</td>\n",
       "      <td>161</td>\n",
       "      <td>3</td>\n",
       "      <td>997454486</td>\n",
       "    </tr>\n",
       "    <tr>\n",
       "      <th>1000042</th>\n",
       "      <td>6040</td>\n",
       "      <td>1221</td>\n",
       "      <td>4</td>\n",
       "      <td>998315055</td>\n",
       "    </tr>\n",
       "  </tbody>\n",
       "</table>\n",
       "<p>1000209 rows × 4 columns</p>\n",
       "</div>"
      ],
      "text/plain": [
       "         userID  movieID  Rating  Timestamp\n",
       "31            1     3186       4  978300019\n",
       "22            1     1270       5  978300055\n",
       "27            1     1721       4  978300055\n",
       "37            1     1022       5  978300055\n",
       "24            1     2340       3  978300103\n",
       "...         ...      ...     ...        ...\n",
       "1000019    6040     2917       4  997454429\n",
       "999988     6040     1921       4  997454464\n",
       "1000172    6040     1784       3  997454464\n",
       "1000167    6040      161       3  997454486\n",
       "1000042    6040     1221       4  998315055\n",
       "\n",
       "[1000209 rows x 4 columns]"
      ]
     },
     "execution_count": 3,
     "metadata": {},
     "output_type": "execute_result"
    }
   ],
   "source": [
    "ratings = pd.read_csv(\n",
    "    data_root+\"ratings.dat\", \n",
    "    sep='::', \n",
    "    names=[\"userID\", \"movieID\", \"Rating\", \"Timestamp\"], \n",
    "    engine='python'\n",
    ")\n",
    "ratings = ratings.sort_values([\"userID\", \"Timestamp\"])\n",
    "ratings"
   ]
  },
  {
   "cell_type": "code",
   "execution_count": 4,
   "id": "1ae94af6-fb24-4cbb-9e57-6589a79ec403",
   "metadata": {
    "tags": []
   },
   "outputs": [
    {
     "data": {
      "text/html": [
       "<div>\n",
       "<style scoped>\n",
       "    .dataframe tbody tr th:only-of-type {\n",
       "        vertical-align: middle;\n",
       "    }\n",
       "\n",
       "    .dataframe tbody tr th {\n",
       "        vertical-align: top;\n",
       "    }\n",
       "\n",
       "    .dataframe thead th {\n",
       "        text-align: right;\n",
       "    }\n",
       "</style>\n",
       "<table border=\"1\" class=\"dataframe\">\n",
       "  <thead>\n",
       "    <tr style=\"text-align: right;\">\n",
       "      <th></th>\n",
       "      <th>userID</th>\n",
       "      <th>Gender</th>\n",
       "      <th>Age</th>\n",
       "      <th>Occ</th>\n",
       "      <th>Zip</th>\n",
       "    </tr>\n",
       "  </thead>\n",
       "  <tbody>\n",
       "    <tr>\n",
       "      <th>0</th>\n",
       "      <td>1</td>\n",
       "      <td>F</td>\n",
       "      <td>1</td>\n",
       "      <td>10</td>\n",
       "      <td>48067</td>\n",
       "    </tr>\n",
       "    <tr>\n",
       "      <th>1</th>\n",
       "      <td>2</td>\n",
       "      <td>M</td>\n",
       "      <td>56</td>\n",
       "      <td>16</td>\n",
       "      <td>70072</td>\n",
       "    </tr>\n",
       "    <tr>\n",
       "      <th>2</th>\n",
       "      <td>3</td>\n",
       "      <td>M</td>\n",
       "      <td>25</td>\n",
       "      <td>15</td>\n",
       "      <td>55117</td>\n",
       "    </tr>\n",
       "    <tr>\n",
       "      <th>3</th>\n",
       "      <td>4</td>\n",
       "      <td>M</td>\n",
       "      <td>45</td>\n",
       "      <td>7</td>\n",
       "      <td>02460</td>\n",
       "    </tr>\n",
       "    <tr>\n",
       "      <th>4</th>\n",
       "      <td>5</td>\n",
       "      <td>M</td>\n",
       "      <td>25</td>\n",
       "      <td>20</td>\n",
       "      <td>55455</td>\n",
       "    </tr>\n",
       "    <tr>\n",
       "      <th>...</th>\n",
       "      <td>...</td>\n",
       "      <td>...</td>\n",
       "      <td>...</td>\n",
       "      <td>...</td>\n",
       "      <td>...</td>\n",
       "    </tr>\n",
       "    <tr>\n",
       "      <th>6035</th>\n",
       "      <td>6036</td>\n",
       "      <td>F</td>\n",
       "      <td>25</td>\n",
       "      <td>15</td>\n",
       "      <td>32603</td>\n",
       "    </tr>\n",
       "    <tr>\n",
       "      <th>6036</th>\n",
       "      <td>6037</td>\n",
       "      <td>F</td>\n",
       "      <td>45</td>\n",
       "      <td>1</td>\n",
       "      <td>76006</td>\n",
       "    </tr>\n",
       "    <tr>\n",
       "      <th>6037</th>\n",
       "      <td>6038</td>\n",
       "      <td>F</td>\n",
       "      <td>56</td>\n",
       "      <td>1</td>\n",
       "      <td>14706</td>\n",
       "    </tr>\n",
       "    <tr>\n",
       "      <th>6038</th>\n",
       "      <td>6039</td>\n",
       "      <td>F</td>\n",
       "      <td>45</td>\n",
       "      <td>0</td>\n",
       "      <td>01060</td>\n",
       "    </tr>\n",
       "    <tr>\n",
       "      <th>6039</th>\n",
       "      <td>6040</td>\n",
       "      <td>M</td>\n",
       "      <td>25</td>\n",
       "      <td>6</td>\n",
       "      <td>11106</td>\n",
       "    </tr>\n",
       "  </tbody>\n",
       "</table>\n",
       "<p>6040 rows × 5 columns</p>\n",
       "</div>"
      ],
      "text/plain": [
       "      userID Gender  Age  Occ    Zip\n",
       "0          1      F    1   10  48067\n",
       "1          2      M   56   16  70072\n",
       "2          3      M   25   15  55117\n",
       "3          4      M   45    7  02460\n",
       "4          5      M   25   20  55455\n",
       "...      ...    ...  ...  ...    ...\n",
       "6035    6036      F   25   15  32603\n",
       "6036    6037      F   45    1  76006\n",
       "6037    6038      F   56    1  14706\n",
       "6038    6039      F   45    0  01060\n",
       "6039    6040      M   25    6  11106\n",
       "\n",
       "[6040 rows x 5 columns]"
      ]
     },
     "execution_count": 4,
     "metadata": {},
     "output_type": "execute_result"
    }
   ],
   "source": [
    "users = pd.read_csv(\n",
    "    data_root+\"users.dat\", \n",
    "    sep='::', \n",
    "    names=[\"userID\", \"Gender\", \"Age\", \"Occ\", \"Zip\"], \n",
    "    engine='python'\n",
    ")\n",
    "users"
   ]
  },
  {
   "cell_type": "code",
   "execution_count": 5,
   "id": "0eee8333-d99e-4391-89ab-00dc1c353b40",
   "metadata": {
    "tags": []
   },
   "outputs": [
    {
     "data": {
      "text/plain": [
       "(      userID Gender  Age  Occ    Zip\n",
       " 5          6      F   50    9  55117\n",
       " 36        37      F   25    9  66212\n",
       " 88        89      F   56    9  85749\n",
       " 122      123      M   35    9  67208\n",
       " 125      126      M   18    9  98117\n",
       " ...      ...    ...  ...  ...    ...\n",
       " 5634    5635      F   35    9  06854\n",
       " 5682    5683      F   18    9  94538\n",
       " 5861    5862      F   25    9  76120\n",
       " 5965    5966      F   35    9  10021\n",
       " 6014    6015      F   25    9  80013\n",
       " \n",
       " [92 rows x 5 columns],\n",
       "       userID Gender  Age  Occ    Zip\n",
       " 1          2      M   56   16  70072\n",
       " 30        31      M   56    7  06840\n",
       " 79        80      M   56    1  49327\n",
       " 88        89      F   56    9  85749\n",
       " 89        90      M   56   13  85749\n",
       " ...      ...    ...  ...  ...    ...\n",
       " 5947    5948      M   56   13  12124\n",
       " 5967    5968      M   56    7  98103\n",
       " 5979    5980      M   56    1  42503\n",
       " 5985    5986      F   56    1  01060\n",
       " 6037    6038      F   56    1  14706\n",
       " \n",
       " [380 rows x 5 columns])"
      ]
     },
     "execution_count": 5,
     "metadata": {},
     "output_type": "execute_result"
    }
   ],
   "source": [
    "from collections import Counter\n",
    "\n",
    "users[users[\"Occ\"] == 9], users[users[\"Age\"] >= 56]"
   ]
  },
  {
   "cell_type": "code",
   "execution_count": 6,
   "id": "2a13d31e-2c27-42ea-b9ed-c0af6cbb2384",
   "metadata": {
    "tags": []
   },
   "outputs": [
    {
     "data": {
      "text/plain": [
       "(3706, 3952, 1)"
      ]
     },
     "execution_count": 6,
     "metadata": {},
     "output_type": "execute_result"
    }
   ],
   "source": [
    "movies = ratings[\"movieID\"].tolist()\n",
    "len(set(movies)), max(movies), min(movies)"
   ]
  },
  {
   "cell_type": "code",
   "execution_count": 7,
   "id": "cc574235-98a2-4787-9cda-9d762bb077f1",
   "metadata": {
    "tags": []
   },
   "outputs": [],
   "source": [
    "movieIDtosysID = {}\n",
    "sysIDtomovieID = {}\n",
    "\n",
    "len(movies)\n",
    "curr_id = 0\n",
    "for movie in movies:\n",
    "    if movie not in movieIDtosysID:\n",
    "        movieIDtosysID[movie] = curr_id\n",
    "        sysIDtomovieID[curr_id] = movie\n",
    "        curr_id += 1"
   ]
  },
  {
   "cell_type": "code",
   "execution_count": 8,
   "id": "5be29b4e-ccbd-42dc-ba38-bfdca5bcaa16",
   "metadata": {
    "tags": []
   },
   "outputs": [
    {
     "data": {
      "text/plain": [
       "(3706, 3705, 0)"
      ]
     },
     "execution_count": 8,
     "metadata": {},
     "output_type": "execute_result"
    }
   ],
   "source": [
    "new_movie_id_col = [movieIDtosysID[m] for m in movies]\n",
    "ratings[\"movieID\"] = new_movie_id_col\n",
    "new_movies = ratings[\"movieID\"].tolist()\n",
    "len(set(new_movies)), max(new_movies), min(new_movies)"
   ]
  },
  {
   "cell_type": "code",
   "execution_count": 9,
   "id": "d216c0ab-062c-4e81-ae11-8bb5bf79a585",
   "metadata": {
    "tags": []
   },
   "outputs": [],
   "source": [
    "no_movies = len(set(new_movies))"
   ]
  },
  {
   "cell_type": "code",
   "execution_count": 10,
   "id": "c3bfd282-3617-491d-85de-623df5bb3961",
   "metadata": {
    "tags": []
   },
   "outputs": [],
   "source": [
    "no_test_items = 5"
   ]
  },
  {
   "cell_type": "code",
   "execution_count": 11,
   "id": "52762927-8dca-49fd-ae7d-2a178200deb2",
   "metadata": {
    "tags": []
   },
   "outputs": [],
   "source": [
    "userIDtosysID = {}\n",
    "sysIDtouserID = {}\n",
    "\n",
    "userID_list = users[\"userID\"].tolist()\n",
    "\n",
    "no_ratings = 0\n",
    "\n",
    "train_data = dict()\n",
    "test_data = dict()\n",
    "\n",
    "group_info = []\n",
    "\n",
    "no_users = 0\n",
    "\n",
    "for u_id in userID_list:\n",
    "    user_ratings = ratings[(ratings[\"userID\"] == u_id) & (ratings[\"Rating\"] >= 5)]\n",
    "    \n",
    "    if len(user_ratings) < 15:\n",
    "        continue\n",
    "        \n",
    "    user_items = user_ratings[\"movieID\"].tolist()\n",
    "    user_prof = users[users[\"userID\"] == u_id]\n",
    "    user_g = np.zeros(2).astype(\"int\")\n",
    "    gender = user_prof[\"Gender\"].item()\n",
    "    age = user_prof[\"Age\"].item()\n",
    "    if age > 55 and gender == \"M\":\n",
    "        user_g[0] = 1\n",
    "    else:\n",
    "        user_g[1] = 1\n",
    "    \n",
    "    group_info.append(user_g)\n",
    "    \n",
    "    train_data[no_users] = user_items[:-no_test_items]\n",
    "    test_data[no_users] = user_items[-no_test_items:]\n",
    "        \n",
    "    userIDtosysID[u_id] = no_users\n",
    "    sysIDtouserID[no_users] = u_id\n",
    "        \n",
    "    no_users += 1\n",
    "    \n",
    "group_info = np.vstack(group_info)"
   ]
  },
  {
   "cell_type": "code",
   "execution_count": 12,
   "id": "98d89171-99b6-4efd-874f-2a20aa125275",
   "metadata": {
    "tags": []
   },
   "outputs": [
    {
     "data": {
      "text/plain": [
       "((4050, 2), 3706, 4050)"
      ]
     },
     "execution_count": 12,
     "metadata": {},
     "output_type": "execute_result"
    }
   ],
   "source": [
    "group_info.shape, no_movies, no_users"
   ]
  },
  {
   "cell_type": "code",
   "execution_count": 13,
   "id": "ae5fe37d-b1d4-4ff9-83fa-ebb40cecc269",
   "metadata": {
    "tags": []
   },
   "outputs": [
    {
     "data": {
      "text/plain": [
       "array([ 145, 3905])"
      ]
     },
     "execution_count": 13,
     "metadata": {},
     "output_type": "execute_result"
    }
   ],
   "source": [
    "group_info.sum(0)"
   ]
  },
  {
   "cell_type": "code",
   "execution_count": 14,
   "id": "61cf664f-5cee-4f5b-9aa0-860448baf75a",
   "metadata": {
    "tags": []
   },
   "outputs": [],
   "source": [
    "# torch.save(torch.Tensor(group_info), \"../data/ml-1m/group_info.pt\")"
   ]
  },
  {
   "cell_type": "code",
   "execution_count": 15,
   "id": "82f73d2b-2209-422f-8da8-02511c8e2f41",
   "metadata": {
    "tags": []
   },
   "outputs": [],
   "source": [
    "import scipy.sparse as sp\n",
    "\n",
    "def build_interaction_matrix(data, rows, cols):\n",
    "\n",
    "    mat = sp.lil_matrix((rows, cols), dtype=np.int32)\n",
    "\n",
    "    for uid, v in data.items():\n",
    "        for mid in v: \n",
    "            mat[uid, mid] = 1.0\n",
    "\n",
    "    return mat.tocoo()\n",
    "\n",
    "train_mat = build_interaction_matrix(train_data, no_users, no_movies)\n",
    "test_mat = build_interaction_matrix(test_data, no_users, no_movies)"
   ]
  },
  {
   "cell_type": "code",
   "execution_count": 16,
   "id": "b2938ea6-c5fd-4b24-a8e3-38e34d3ba5c5",
   "metadata": {
    "tags": []
   },
   "outputs": [
    {
     "data": {
      "text/plain": [
       "(4050, 3706)"
      ]
     },
     "execution_count": 16,
     "metadata": {},
     "output_type": "execute_result"
    }
   ],
   "source": [
    "test_mat.shape"
   ]
  },
  {
   "cell_type": "code",
   "execution_count": 17,
   "id": "5e6e7a06-6638-4ee0-a04d-d320556b3008",
   "metadata": {
    "tags": []
   },
   "outputs": [
    {
     "data": {
      "text/plain": [
       "<lightfm.lightfm.LightFM at 0x7f7a02a6baf0>"
      ]
     },
     "execution_count": 17,
     "metadata": {},
     "output_type": "execute_result"
    }
   ],
   "source": [
    "# Instantiate and train the model\n",
    "model = LightFM(loss='warp', no_components=16)\n",
    "model.fit(train_mat, epochs=30, num_threads=2)"
   ]
  },
  {
   "cell_type": "code",
   "execution_count": 18,
   "id": "aa995a5d-fb9a-4dc4-9a11-af8c82e2e890",
   "metadata": {
    "tags": []
   },
   "outputs": [
    {
     "data": {
      "text/plain": [
       "0.021530865"
      ]
     },
     "execution_count": 18,
     "metadata": {},
     "output_type": "execute_result"
    }
   ],
   "source": [
    "# Evaluate the trained model\n",
    "test_precision = precision_at_k(model, test_mat, k=5, preserve_rows=True)\n",
    "test_precision.mean()"
   ]
  },
  {
   "cell_type": "code",
   "execution_count": 19,
   "id": "7f6fae8c-401e-4dac-a976-b43e19b71655",
   "metadata": {
    "tags": []
   },
   "outputs": [
    {
     "data": {
      "text/plain": [
       "((4050, 16), (3706, 16))"
      ]
     },
     "execution_count": 19,
     "metadata": {},
     "output_type": "execute_result"
    }
   ],
   "source": [
    "user_embeds = model.user_embeddings\n",
    "movie_embeds = model.item_embeddings\n",
    "\n",
    "user_embeds.shape, movie_embeds.shape"
   ]
  },
  {
   "cell_type": "code",
   "execution_count": 20,
   "id": "295dbebe-620f-452e-aca7-c9e85ef678ba",
   "metadata": {
    "tags": []
   },
   "outputs": [
    {
     "name": "stdout",
     "output_type": "stream",
     "text": [
      "-5.893602 6.113109\n"
     ]
    }
   ],
   "source": [
    "score_mat = user_embeds @ movie_embeds.T\n",
    "print(np.min(score_mat), np.max(score_mat))\n",
    "for k, v in train_data.items():\n",
    "    score_mat[k, v] = np.min(score_mat)"
   ]
  },
  {
   "cell_type": "code",
   "execution_count": 21,
   "id": "e83bbaa6-0a90-4462-baf6-0da03b487085",
   "metadata": {
    "tags": []
   },
   "outputs": [],
   "source": [
    "num_hypotheses = 100\n",
    "thresholds = torch.linspace(np.min(score_mat), np.max(score_mat), num_hypotheses)"
   ]
  },
  {
   "cell_type": "code",
   "execution_count": 22,
   "id": "1094b55c-da85-4a99-96f4-07304d136264",
   "metadata": {
    "tags": []
   },
   "outputs": [],
   "source": [
    "X = torch.Tensor(score_mat)"
   ]
  },
  {
   "cell_type": "code",
   "execution_count": 23,
   "id": "d5409c9e-e8e2-4243-863f-276b76f39796",
   "metadata": {
    "tags": []
   },
   "outputs": [],
   "source": [
    "preds = torch.gt(X.unsqueeze(-1), thresholds).int()"
   ]
  },
  {
   "cell_type": "code",
   "execution_count": 24,
   "id": "c169fdbb-ae4d-4bbc-b0ea-f13f83d90a18",
   "metadata": {
    "tags": []
   },
   "outputs": [
    {
     "data": {
      "text/plain": [
       "torch.Size([4050, 3706, 100])"
      ]
     },
     "execution_count": 24,
     "metadata": {},
     "output_type": "execute_result"
    }
   ],
   "source": [
    "preds.shape"
   ]
  },
  {
   "cell_type": "code",
   "execution_count": 25,
   "id": "7f16bc81-1f96-4915-bd25-6788c67aca86",
   "metadata": {
    "tags": []
   },
   "outputs": [],
   "source": [
    "gt = test_mat.toarray()\n",
    "out = preds*np.expand_dims(gt, -1)"
   ]
  },
  {
   "cell_type": "code",
   "execution_count": 26,
   "id": "efe6cedf-ad4a-41e7-ba33-f96d01f4cdae",
   "metadata": {
    "tags": []
   },
   "outputs": [],
   "source": [
    "r_loss = 1-(out.sum(1)/no_test_items)"
   ]
  },
  {
   "cell_type": "code",
   "execution_count": 27,
   "id": "55b37feb-731d-4653-8ca6-d58331a797ed",
   "metadata": {
    "tags": []
   },
   "outputs": [],
   "source": [
    "p_loss = 1-(out.sum(1)/preds.sum(1))\n",
    "p_loss = torch.nan_to_num(p_loss)"
   ]
  },
  {
   "cell_type": "code",
   "execution_count": 28,
   "id": "d685337d-2017-406e-a694-ed68b88b0ec7",
   "metadata": {
    "tags": []
   },
   "outputs": [],
   "source": [
    "loss = 0.5*r_loss**2 + 0.5*p_loss**2"
   ]
  },
  {
   "cell_type": "code",
   "execution_count": 29,
   "id": "5384b41a-0b12-4932-baa8-40b167aaac80",
   "metadata": {
    "tags": []
   },
   "outputs": [],
   "source": [
    "mean_per_t = torch.mean(loss, 0)\n",
    "r_per_t = torch.mean(r_loss, 0)\n",
    "p_per_t = torch.mean(p_loss, 0)"
   ]
  },
  {
   "cell_type": "code",
   "execution_count": 30,
   "id": "a600ac1a-564a-4bda-8eb1-824fac8ec1d3",
   "metadata": {
    "tags": []
   },
   "outputs": [
    {
     "data": {
      "image/png": "[encoded data removed]",
      "text/plain": [
       "<Figure size 640x480 with 1 Axes>"
      ]
     },
     "metadata": {},
     "output_type": "display_data"
    }
   ],
   "source": [
    "plt.plot(thresholds, mean_per_t, label=\"total\")\n",
    "plt.plot(thresholds, r_per_t, label=\"r\")\n",
    "plt.plot(thresholds, p_per_t, label=\"p\")\n",
    "plt.xlabel(\"threshold\")\n",
    "plt.ylabel(\"expected loss\")\n",
    "plt.legend()\n",
    "plt.show()"
   ]
  },
  {
   "cell_type": "code",
   "execution_count": 31,
   "id": "033844d7-c335-49a9-b709-f68a672431ca",
   "metadata": {
    "tags": []
   },
   "outputs": [],
   "source": [
    "# torch.save(torch.Tensor(group_info), \"../data/ml-1m/group_info.pt\")\n",
    "# torch.save(loss, \"../data/ml-1m/loss_matrix.pt\")"
   ]
  },
  {
   "cell_type": "code",
   "execution_count": null,
   "id": "43f4dbfe-a79b-4e4f-8a0f-62666fadc6c0",
   "metadata": {},
   "outputs": [],
   "source": []
  },
  {
   "cell_type": "code",
   "execution_count": null,
   "id": "e3cb9dde-2b55-486e-8e72-48e33d17656c",
   "metadata": {},
   "outputs": [],
   "source": []
  },
  {
   "cell_type": "code",
   "execution_count": null,
   "id": "8ec94007-1025-4b45-8aab-8f2501db664f",
   "metadata": {},
   "outputs": [],
   "source": []
  },
  {
   "cell_type": "code",
   "execution_count": null,
   "id": "69c8c001-150e-49e4-a76d-69a0cb9d24d1",
   "metadata": {},
   "outputs": [],
   "source": []
  }
 ],
 "metadata": {
  "kernelspec": {
   "display_name": "Python 3 (ipykernel)",
   "language": "python",
   "name": "python3"
  },
  "language_info": {
   "codemirror_mode": {
    "name": "ipython",
    "version": 3
   },
   "file_extension": ".py",
   "mimetype": "text/x-python",
   "name": "python",
   "nbconvert_exporter": "python",
   "pygments_lexer": "ipython3",
   "version": "3.10.9"
  }
 },
 "nbformat": 4,
 "nbformat_minor": 5
}
