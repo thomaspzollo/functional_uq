{
 "cells": [
  {
   "cell_type": "code",
   "execution_count": 1,
   "id": "b2ee8eba-31d1-45c0-81e8-ba7b19ea2119",
   "metadata": {
    "tags": []
   },
   "outputs": [],
   "source": [
    "from src.bounds import *\n",
    "import torch\n",
    "from dataclasses import dataclass\n",
    "import numpy as np\n",
    "from src.utils import predict\n",
    "from src.metric import balanced_accuracy\n",
    "import matplotlib.pyplot as plt"
   ]
  },
  {
   "cell_type": "code",
   "execution_count": 2,
   "id": "8b93719a-6f85-46a7-be23-5105602683bc",
   "metadata": {
    "tags": []
   },
   "outputs": [],
   "source": [
    "save_root = \"../data/rxrx1/\"\n",
    "Z = torch.load(save_root+\"rxrx_val_logits.pt\")\n",
    "X = torch.softmax(Z, -1)\n",
    "y = torch.load(save_root+\"rxrx_val_labels.pt\").int()"
   ]
  },
  {
   "cell_type": "code",
   "execution_count": 3,
   "id": "dceb0f07-cefc-4a64-a3b1-c41ec36ac037",
   "metadata": {
    "tags": []
   },
   "outputs": [
    {
     "data": {
      "text/plain": [
       "(torch.Size([9854, 1139]), torch.Size([9854, 1139]), torch.Size([9854]))"
      ]
     },
     "execution_count": 3,
     "metadata": {},
     "output_type": "execute_result"
    }
   ],
   "source": [
    "Z.shape, X.shape, y.shape"
   ]
  },
  {
   "cell_type": "code",
   "execution_count": 4,
   "id": "dc718b94-1357-48aa-81ab-319f7a38ccb8",
   "metadata": {
    "tags": []
   },
   "outputs": [],
   "source": [
    "@dataclass\n",
    "class Split:\n",
    "    X: torch.Tensor"
   ]
  },
  {
   "cell_type": "code",
   "execution_count": 5,
   "id": "c4a5e264-b9d5-4117-ba43-4b0c56e17f42",
   "metadata": {
    "tags": []
   },
   "outputs": [],
   "source": [
    "n_val = 1000\n",
    "delta = 0.05\n",
    "num_hypotheses = 200\n",
    "correction = delta/(num_hypotheses)"
   ]
  },
  {
   "cell_type": "code",
   "execution_count": 6,
   "id": "deef0d61-33c4-4722-8c25-6d05565fe923",
   "metadata": {
    "tags": []
   },
   "outputs": [],
   "source": [
    "L_BJ = berk_jones_two_sided(n_val, correction, 0.0, 1.0)"
   ]
  },
  {
   "cell_type": "code",
   "execution_count": null,
   "id": "da9a7e96-2a43-4796-883c-b1ff33eab931",
   "metadata": {
    "tags": []
   },
   "outputs": [],
   "source": []
  },
  {
   "cell_type": "code",
   "execution_count": 7,
   "id": "31d2bd98-6141-43e1-9635-c6d4868267b0",
   "metadata": {
    "tags": []
   },
   "outputs": [],
   "source": [
    "thresholds = torch.logspace(-10, 0, num_hypotheses)\n",
    "thresholds[0] = 0.0"
   ]
  },
  {
   "cell_type": "code",
   "execution_count": 8,
   "id": "70aa6834-b434-4ea4-ac92-05534e980ed5",
   "metadata": {
    "tags": []
   },
   "outputs": [],
   "source": [
    "preds = torch.gt(X.unsqueeze(-1), thresholds).int()"
   ]
  },
  {
   "cell_type": "code",
   "execution_count": 9,
   "id": "8e25832e-f98d-4ddf-99b5-5932d574ff5b",
   "metadata": {
    "tags": []
   },
   "outputs": [
    {
     "data": {
      "text/plain": [
       "(torch.Size([9854, 1139]), torch.Size([9854, 200, 1139]))"
      ]
     },
     "execution_count": 9,
     "metadata": {},
     "output_type": "execute_result"
    }
   ],
   "source": [
    "y_one_hot = torch.zeros((y.shape[0], 1139)).int()\n",
    "for i in range(y.shape[0]):\n",
    "    y_one_hot[i, y[i]]=1\n",
    "y_one_hot.shape, preds.permute(0,2,1).shape"
   ]
  },
  {
   "cell_type": "code",
   "execution_count": 10,
   "id": "a8b4f12b-cbde-4adb-a738-f08f3538118c",
   "metadata": {
    "tags": []
   },
   "outputs": [],
   "source": [
    "loss = 1 - balanced_accuracy(preds.permute(0,2,1), y_one_hot.unsqueeze(1))"
   ]
  },
  {
   "cell_type": "code",
   "execution_count": 11,
   "id": "b46b9856-d71d-4949-bec9-a75ffa9c4700",
   "metadata": {
    "tags": []
   },
   "outputs": [
    {
     "data": {
      "text/plain": [
       "torch.Size([9854, 200])"
      ]
     },
     "execution_count": 11,
     "metadata": {},
     "output_type": "execute_result"
    }
   ],
   "source": [
    "loss.shape"
   ]
  },
  {
   "cell_type": "code",
   "execution_count": 12,
   "id": "ccebed1d-17b3-4c48-ae4b-3fd271b0f1cc",
   "metadata": {
    "tags": []
   },
   "outputs": [],
   "source": [
    "p = torch.randperm(loss.size()[0])\n",
    "loss = loss[p,:]"
   ]
  },
  {
   "cell_type": "code",
   "execution_count": 13,
   "id": "224b9e9c-8065-46f7-ba6e-cb19969ee33e",
   "metadata": {
    "tags": []
   },
   "outputs": [],
   "source": [
    "train_split = Split(\n",
    "    X=loss[:n_val],\n",
    ")\n",
    "\n",
    "test_split = Split(\n",
    "    X=loss[n_val:],\n",
    ")"
   ]
  },
  {
   "cell_type": "code",
   "execution_count": 14,
   "id": "b24065c0-726a-42d8-a175-563105bb1aad",
   "metadata": {
    "tags": []
   },
   "outputs": [],
   "source": [
    "del loss, preds, y_one_hot"
   ]
  },
  {
   "cell_type": "code",
   "execution_count": 15,
   "id": "019133c6-c072-4f3e-aa64-100a73b15e2a",
   "metadata": {
    "tags": []
   },
   "outputs": [],
   "source": [
    "full_aucs = integrate_quantiles(train_split.X.T, L_BJ)"
   ]
  },
  {
   "cell_type": "code",
   "execution_count": 16,
   "id": "9240cecf-2295-49d4-ac69-caa54dbe047f",
   "metadata": {},
   "outputs": [],
   "source": [
    "## Q1: how to calculate gini coefficient\n",
    "## Q2: how to calculate CDF upper bound"
   ]
  },
  {
   "cell_type": "code",
   "execution_count": 17,
   "id": "462454e0-296b-4ebc-9111-a186d1383623",
   "metadata": {
    "tags": []
   },
   "outputs": [
    {
     "name": "stdout",
     "output_type": "stream",
     "text": [
      "[0.5        0.31588473 0.31378776 0.31182375 0.30959331 0.30755904\n",
      " 0.30544418 0.30320749 0.30081298 0.29852175 0.29617006 0.29383129\n",
      " 0.29136181 0.28904302 0.28681823 0.28437684 0.28175236 0.27934899\n",
      " 0.27661573 0.27428103 0.27181694 0.2694868  0.2668775  0.26459702\n",
      " 0.26204836 0.25932084 0.25689489 0.25413765 0.25132937 0.24847026\n",
      " 0.24567548 0.24293406 0.24029371 0.23732813 0.23482256 0.23205357\n",
      " 0.22929355 0.22653356 0.22374981 0.22110964 0.21808058 0.21551473\n",
      " 0.21270286 0.20967958 0.20665505 0.20380439 0.2008317  0.19818376\n",
      " 0.19503579 0.19254474 0.18983652 0.18670002 0.18429093 0.18137437\n",
      " 0.1787386  0.17584905 0.17271864 0.16986395 0.16758299 0.1651485\n",
      " 0.16202237 0.16000354 0.15722349 0.15503187 0.1521878  0.14907915\n",
      " 0.14601285 0.14296212 0.1403577  0.13739737 0.13457677 0.13296213\n",
      " 0.13025956 0.1275318  0.12515245 0.12245588 0.12026644 0.11771874\n",
      " 0.11606745 0.1133171  0.11153075 0.10948849 0.10721972 0.10480266\n",
      " 0.10305993 0.10121635 0.10091746 0.10064765 0.09978068 0.10000271\n",
      " 0.09936756 0.10018714 0.10015165 0.10062816 0.10045867 0.10114596\n",
      " 0.10271656 0.10200898 0.10161689 0.10384892 0.10528401 0.10575399\n",
      " 0.10487495 0.10406659 0.10422648 0.10436342 0.10519551 0.10446238\n",
      " 0.10578866 0.1081842  0.10889585 0.11079917 0.11284876 0.11392956\n",
      " 0.11453818 0.11474599 0.11644365 0.11670582 0.1175575  0.11992068\n",
      " 0.12183953 0.12481855 0.1273027  0.12888533 0.13302733 0.13561062\n",
      " 0.13726075 0.13946247 0.14210334 0.14733432 0.15212216 0.15290547\n",
      " 0.15813495 0.16145643 0.16527404 0.16810908 0.17448866 0.17889713\n",
      " 0.18477615 0.18574391 0.18922109 0.19120898 0.19616995 0.19723237\n",
      " 0.20269862 0.20770402 0.21271805 0.21722716 0.2212472  0.2228643\n",
      " 0.22548885 0.22857857 0.23214889 0.23813522 0.2393342  0.24245901\n",
      " 0.2470045  0.25014159 0.25279364 0.2535665  0.25812066 0.26313514\n",
      " 0.26625903 0.26704322 0.26971    0.27332308 0.27738122 0.28098274\n",
      " 0.28226052 0.28493061 0.28851988 0.29209967 0.2956884  0.29925952\n",
      " 0.30056088 0.30231407 0.30768036 0.30852022 0.31161769 0.31471144\n",
      " 0.31643881 0.31773709 0.31858918 0.32165498 0.32471128 0.32555576\n",
      " 0.32903609 0.33077239 0.33381012 0.3363936  0.34026156 0.34366823\n",
      " 0.34662943 0.3491475  0.35123969 0.35457126 0.35786792 0.36399723\n",
      " 0.37239502 0.5       ]\n"
     ]
    }
   ],
   "source": [
    "def calc_gini(X, L, U, beta_min=0.0, beta_max=1.0):\n",
    "\n",
    "    mean_U = integrate_quantiles(X, U)\n",
    "    print(mean_U)\n",
    "\n",
    "    b = L\n",
    "    dist_max = 1.0\n",
    "    X_sorted = np.sort(X, axis=-1)\n",
    "    b_lower = np.concatenate([np.zeros(1), b], -1)\n",
    "    b_upper = np.concatenate([b, np.ones(1)], -1)\n",
    "    \n",
    "    # clip bounds to [beta_min, 1]\n",
    "    b_lower = np.maximum(b_lower, beta_min)\n",
    "    b_upper = np.maximum(b_upper, b_lower)\n",
    "    \n",
    "    # clip bounds to [0, beta_max]\n",
    "    b_upper = np.minimum(b_upper, beta_max)\n",
    "    b_lower = np.minimum(b_upper, b_lower)\n",
    "\n",
    "    heights = b_upper - b_lower\n",
    "    widths = np.concatenate([X_sorted, np.full((X_sorted.shape[0], 1), dist_max)], -1)\n",
    "\n",
    "    res = np.cumsum(heights * widths, -1)/np.expand_dims(mean_U, -1)\n",
    "    res *= heights\n",
    "    res = 1 - np.sum(res, -1)\n",
    "    return res\n",
    "    \n",
    "U_BJ = np.clip(L_BJ+0.2, 0, 1)\n",
    "\n",
    "group_diff = calc_gini(train_split.X.T, L_BJ, U_BJ)"
   ]
  },
  {
   "cell_type": "code",
   "execution_count": 18,
   "id": "4fd55f22-a7a9-4b3e-80bb-b6af0488f81d",
   "metadata": {
    "tags": []
   },
   "outputs": [
    {
     "data": {
      "text/plain": [
       "0.5723715944334234"
      ]
     },
     "execution_count": 18,
     "metadata": {},
     "output_type": "execute_result"
    }
   ],
   "source": [
    "max(group_diff)"
   ]
  },
  {
   "cell_type": "code",
   "execution_count": 19,
   "id": "2b80f8d1-3bbe-4170-bcf1-47339dc4302e",
   "metadata": {
    "tags": []
   },
   "outputs": [
    {
     "data": {
      "image/png": "[encoded data removed]",
      "text/plain": [
       "<Figure size 500x300 with 1 Axes>"
      ]
     },
     "metadata": {},
     "output_type": "display_data"
    }
   ],
   "source": [
    "plt.rcParams[\"figure.figsize\"] = (5,3)\n",
    "\n",
    "plt.plot(thresholds, full_aucs, \"-x\", label=\"full\")\n",
    "plt.plot(thresholds, group_diff, \"-x\", label=\"gini\")\n",
    "plt.plot(thresholds, full_aucs+group_diff, \"-x\", label=\"comb\")\n",
    "plt.xscale(\"log\")\n",
    "plt.legend()\n",
    "plt.show()"
   ]
  },
  {
   "cell_type": "code",
   "execution_count": 20,
   "id": "2a809269-51df-43c2-8260-54883d61fe69",
   "metadata": {
    "tags": []
   },
   "outputs": [
    {
     "data": {
      "text/plain": [
       "(85, 0.6526833012266017)"
      ]
     },
     "execution_count": 20,
     "metadata": {},
     "output_type": "execute_result"
    }
   ],
   "source": [
    "total_loss = full_aucs+group_diff\n",
    "\n",
    "best_ind = np.argmin(total_loss)\n",
    "best_guar = total_loss[best_ind]\n",
    "best_ind, best_guar"
   ]
  },
  {
   "cell_type": "code",
   "execution_count": 21,
   "id": "26719e0e-0d88-4564-b0ae-9ccf66e34f80",
   "metadata": {
    "tags": []
   },
   "outputs": [
    {
     "data": {
      "text/plain": [
       "(0.23150347359791457, 0.4211798276286871)"
      ]
     },
     "execution_count": 21,
     "metadata": {},
     "output_type": "execute_result"
    }
   ],
   "source": [
    "full_aucs[best_ind], group_diff[best_ind]"
   ]
  },
  {
   "cell_type": "code",
   "execution_count": 22,
   "id": "1764cffd-5216-43d4-876e-ce9fc97f442c",
   "metadata": {
    "tags": []
   },
   "outputs": [
    {
     "name": "stdout",
     "output_type": "stream",
     "text": [
      "(8854, 1)\n"
     ]
    },
    {
     "data": {
      "text/plain": [
       "0.18948095"
      ]
     },
     "execution_count": 22,
     "metadata": {},
     "output_type": "execute_result"
    }
   ],
   "source": [
    "test_loss = np.expand_dims(test_split.X[:, best_ind], -1)\n",
    "print(test_loss.shape)\n",
    "test_mean = np.mean(test_loss)\n",
    "test_mean"
   ]
  },
  {
   "cell_type": "code",
   "execution_count": 23,
   "id": "1be48a86-8522-4499-ba6d-2705332c5718",
   "metadata": {
    "tags": []
   },
   "outputs": [
    {
     "name": "stdout",
     "output_type": "stream",
     "text": [
      "[0.5        0.39731558 0.39528975 0.39315762 0.39106033 0.38888051\n",
      " 0.38662969 0.3844728  0.38216525 0.3800423  0.37777654 0.3757511\n",
      " 0.37363486 0.37130815 0.3687642  0.36641418 0.36420449 0.3616716\n",
      " 0.35902378 0.35653501 0.35407517 0.35138622 0.34877745 0.34614596\n",
      " 0.34341473 0.34058887 0.33785585 0.33492493 0.33228917 0.32928143\n",
      " 0.32640346 0.32348798 0.32053974 0.31774221 0.31506026 0.31270874\n",
      " 0.30956658 0.30675614 0.30359413 0.30050238 0.29772068 0.29424678\n",
      " 0.29137342 0.28830837 0.28541303 0.28237215 0.27912905 0.27610658\n",
      " 0.27344467 0.27021442 0.26732831 0.26423666 0.26190455 0.25885647\n",
      " 0.25600639 0.25327645 0.2507252  0.24802285 0.24567327 0.24332935\n",
      " 0.24086856 0.23849675 0.23583127 0.23314123 0.23017106 0.2282148\n",
      " 0.22534288 0.22274628 0.22061717 0.21839662 0.21586284 0.21364382\n",
      " 0.21149015 0.20894094 0.20712685 0.20514176 0.20303464 0.20149869\n",
      " 0.19993977 0.19846838 0.19661454 0.19521793 0.19364035 0.19173034\n",
      " 0.19079111 0.18948095 0.18802613 0.18705684 0.18579615 0.18531817\n",
      " 0.18424487 0.18362447 0.18306526 0.18288473 0.18229406 0.18185886\n",
      " 0.18170329 0.18114592 0.18090619 0.18112434 0.18099204 0.18137384\n",
      " 0.18130546 0.1813207  0.18133082 0.18198158 0.18236835 0.18363445\n",
      " 0.18448628 0.18547345 0.18570578 0.1867718  0.18813124 0.18991079\n",
      " 0.19169952 0.19342821 0.1950964  0.19703629 0.19936979 0.20073494\n",
      " 0.20388851 0.20602248 0.20835513 0.21054448 0.21275079 0.21513402\n",
      " 0.21704318 0.21883574 0.22133617 0.22349207 0.22636046 0.22866558\n",
      " 0.23149457 0.23426019 0.23699996 0.24024033 0.24379636 0.24653885\n",
      " 0.24998988 0.25320797 0.25667626 0.25943627 0.26370852 0.26766724\n",
      " 0.27159574 0.2748714  0.27772009 0.28110104 0.28400487 0.2868749\n",
      " 0.28960281 0.29280437 0.29658212 0.29942461 0.30341727 0.30743132\n",
      " 0.31055796 0.31448969 0.31799386 0.32072127 0.3243095  0.32773859\n",
      " 0.33107116 0.33397648 0.33689013 0.34077461 0.34455752 0.34710415\n",
      " 0.35073571 0.35358355 0.35745926 0.36061214 0.36343056 0.36631503\n",
      " 0.36881229 0.37193882 0.37489882 0.37843152 0.38129028 0.38421187\n",
      " 0.38753075 0.39029474 0.3936814  0.39633795 0.39973023 0.40279042\n",
      " 0.40602156 0.40863608 0.41091405 0.41460536 0.41711467 0.42086606\n",
      " 0.42394263 0.42769913 0.43128969 0.43538577 0.44083985 0.44663271\n",
      " 0.45615259 0.5       ]\n"
     ]
    },
    {
     "data": {
      "text/plain": [
       "0.7487669149664891"
      ]
     },
     "execution_count": 23,
     "metadata": {},
     "output_type": "execute_result"
    }
   ],
   "source": [
    "int_x = np.arange(1, test_split.X.shape[0] + 1) / test_split.X.shape[0]\n",
    "test_gini_loss = calc_gini(test_split.X.T, int_x, int_x)[best_ind]\n",
    "test_gini_loss"
   ]
  },
  {
   "cell_type": "code",
   "execution_count": 24,
   "id": "5fe64bd4-2fa3-45a4-b570-f3cbe8df7943",
   "metadata": {
    "tags": []
   },
   "outputs": [
    {
     "data": {
      "text/plain": [
       "0.938247860434438"
      ]
     },
     "execution_count": 24,
     "metadata": {},
     "output_type": "execute_result"
    }
   ],
   "source": [
    "total_test_loss = test_mean + test_gini_loss\n",
    "total_test_loss"
   ]
  },
  {
   "cell_type": "markdown",
   "id": "d89cfaa1-d152-405d-a11b-a00c8a3d4b5b",
   "metadata": {},
   "source": [
    "We choose a classification threshold that minimizes an upper bound on:\n",
    "$$\n",
    "E[L(X)]+ Gini(X)\n",
    "$$\n",
    "for balanced accuracy loss."
   ]
  },
  {
   "cell_type": "code",
   "execution_count": 25,
   "id": "b10581fa-5a72-41cb-a14c-d07d5df1b264",
   "metadata": {},
   "outputs": [
    {
     "data": {
      "image/png": "[encoded data removed]",
      "text/plain": [
       "<Figure size 1500x300 with 3 Axes>"
      ]
     },
     "metadata": {},
     "output_type": "display_data"
    }
   ],
   "source": [
    "import matplotlib.pyplot as plt\n",
    "\n",
    "plt.rcParams[\"figure.figsize\"] = (15,3)\n",
    "fig, ax = plt.subplots(1,3) \n",
    "\n",
    "ax[0].scatter(thresholds, full_aucs)\n",
    "ax[0].set_xlabel(\"Threshold\")\n",
    "ax[0].set_ylabel(\"Loss Guarantee\")\n",
    "ax[0].set_title(\"Expected\")\n",
    "ax[0].set_xscale(\"log\")\n",
    "\n",
    "ax[1].scatter(thresholds, group_diff)\n",
    "ax[1].set_xlabel(\"Threshold\")\n",
    "ax[1].set_title(\"Max. Group Diff\")\n",
    "ax[1].set_xscale(\"log\")\n",
    "\n",
    "ax[2].scatter(thresholds, total_loss)\n",
    "ax[2].set_xlabel(\"Threshold\")\n",
    "ax[2].set_title(\"Total\")\n",
    "ax[2].set_xscale(\"log\")\n",
    "\n",
    "plt.show()"
   ]
  },
  {
   "cell_type": "code",
   "execution_count": 26,
   "id": "c5a6615f-0b10-4a19-a4a7-e309a74c8997",
   "metadata": {},
   "outputs": [
    {
     "name": "stdout",
     "output_type": "stream",
     "text": [
      "Guarantee: 0.6526833012266017 | Actual: 0.938247860434438\n",
      "Gini Guarantee: 0.4211798276286871 | Actual: 0.7487669149664891\n",
      "Mean Guarantee: 0.23150347359791457 | Actual: 0.18948095\n"
     ]
    }
   ],
   "source": [
    "print(\"Guarantee:\", best_guar, \"| Actual:\", total_test_loss)\n",
    "print(\"Gini Guarantee:\", group_diff[best_ind], \"| Actual:\", test_gini_loss)\n",
    "print(\"Mean Guarantee:\", full_aucs[best_ind], \"| Actual:\", test_mean)"
   ]
  },
  {
   "cell_type": "code",
   "execution_count": null,
   "id": "a26ac4d6-f5f1-4890-b2e0-7a9b115f2e15",
   "metadata": {},
   "outputs": [],
   "source": []
  }
 ],
 "metadata": {
  "kernelspec": {
   "display_name": "Python 3 (ipykernel)",
   "language": "python",
   "name": "python3"
  },
  "language_info": {
   "codemirror_mode": {
    "name": "ipython",
    "version": 3
   },
   "file_extension": ".py",
   "mimetype": "text/x-python",
   "name": "python",
   "nbconvert_exporter": "python",
   "pygments_lexer": "ipython3",
   "version": "3.10.9"
  }
 },
 "nbformat": 4,
 "nbformat_minor": 5
}
