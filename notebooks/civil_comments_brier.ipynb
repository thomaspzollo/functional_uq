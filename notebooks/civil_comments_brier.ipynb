{
 "cells": [
  {
   "cell_type": "code",
   "execution_count": 1,
   "id": "b2ee8eba-31d1-45c0-81e8-ba7b19ea2119",
   "metadata": {
    "tags": []
   },
   "outputs": [],
   "source": [
    "from src.bounds import *\n",
    "import torch\n",
    "from dataclasses import dataclass\n",
    "import numpy as np\n",
    "from src.utils import predict\n",
    "from sklearn.metrics import brier_score_loss\n",
    "import matplotlib.pyplot as plt"
   ]
  },
  {
   "cell_type": "code",
   "execution_count": 2,
   "id": "8b93719a-6f85-46a7-be23-5105602683bc",
   "metadata": {
    "tags": []
   },
   "outputs": [],
   "source": [
    "save_root = \"../data/civil_comments/\"\n",
    "X = torch.load(save_root+\"X_train.pt\")\n",
    "y = torch.load(save_root+\"y_train.pt\")\n",
    "g = torch.load(save_root+\"g_train.pt\")"
   ]
  },
  {
   "cell_type": "code",
   "execution_count": 3,
   "id": "dc718b94-1357-48aa-81ab-319f7a38ccb8",
   "metadata": {
    "tags": []
   },
   "outputs": [],
   "source": [
    "@dataclass\n",
    "class Split:\n",
    "    X: torch.Tensor\n",
    "    g: torch.Tensor\n",
    "    \n",
    "    \n",
    "def unison_shuffled_copies(a, b, c):\n",
    "    assert len(a) == len(b) and len(b) == len(c)\n",
    "    p = torch.randperm(a.size()[0])\n",
    "    return a[p], b[p], c[p]"
   ]
  },
  {
   "cell_type": "code",
   "execution_count": 4,
   "id": "38d4f911-a032-4748-b152-7b6aa2513e55",
   "metadata": {
    "tags": []
   },
   "outputs": [],
   "source": [
    "var_key = [\"male\", \"female\", \"black\", \"white\"]\n",
    "interest_vars = [(\"male\",\"black\"),(\"female\",\"black\"),(\"male\",\"white\"),(\"female\",\"white\")]"
   ]
  },
  {
   "cell_type": "code",
   "execution_count": 5,
   "id": "c4a5e264-b9d5-4117-ba43-4b0c56e17f42",
   "metadata": {
    "tags": []
   },
   "outputs": [],
   "source": [
    "n_val = 50000\n",
    "delta = 0.05\n",
    "num_hypotheses = 100\n",
    "no_groups = len(interest_vars)\n",
    "correction = delta/(num_hypotheses*(no_groups))"
   ]
  },
  {
   "cell_type": "code",
   "execution_count": 6,
   "id": "31d2bd98-6141-43e1-9635-c6d4868267b0",
   "metadata": {
    "tags": []
   },
   "outputs": [],
   "source": [
    "thresholds = torch.linspace(0.5, 3.0, num_hypotheses)"
   ]
  },
  {
   "cell_type": "code",
   "execution_count": 7,
   "id": "38f534c1-b973-475f-9e69-b2d8282ab34d",
   "metadata": {
    "tags": []
   },
   "outputs": [],
   "source": [
    "def calibrator(probs, thresholds, eps=1e-6):\n",
    "    probs = probs.unsqueeze(1)\n",
    "    x = np.array(probs, dtype=np.float64)\n",
    "    x = np.clip(x, eps, 1 - eps)\n",
    "    x = np.log(x / (1 - x))\n",
    "    print(\"before\", x.shape)\n",
    "    x = x * np.array(thresholds)\n",
    "    print(\"after\", x.shape)\n",
    "    output = 1 / (1 + np.exp(-x))\n",
    "    return output"
   ]
  },
  {
   "cell_type": "code",
   "execution_count": 8,
   "id": "12c45d52-f84c-4f5f-88a4-3499efdfa592",
   "metadata": {
    "tags": []
   },
   "outputs": [
    {
     "name": "stdout",
     "output_type": "stream",
     "text": [
      "before (269038, 1)\n",
      "after (269038, 100)\n"
     ]
    }
   ],
   "source": [
    "preds = calibrator(X, thresholds)"
   ]
  },
  {
   "cell_type": "code",
   "execution_count": 9,
   "id": "f2f44543-1d09-44a2-9519-29c0f1e09203",
   "metadata": {
    "tags": []
   },
   "outputs": [
    {
     "data": {
      "text/plain": [
       "((269038, 100),\n",
       " array([0.02423982, 0.02454206, 0.04417973, ..., 0.23286778, 0.06784378,\n",
       "        0.02380523]),\n",
       " array([0.0201964 , 0.02046214, 0.03806793, ..., 0.22228498, 0.05993825,\n",
       "        0.01981465]))"
      ]
     },
     "execution_count": 9,
     "metadata": {},
     "output_type": "execute_result"
    }
   ],
   "source": [
    "preds.shape, preds[:,0], preds[:,1]"
   ]
  },
  {
   "cell_type": "code",
   "execution_count": 10,
   "id": "31364bf7-5181-43d9-987b-b929ac88c305",
   "metadata": {
    "tags": []
   },
   "outputs": [
    {
     "data": {
      "text/plain": [
       "(torch.Size([269038, 100]), torch.Size([269038, 4]))"
      ]
     },
     "execution_count": 10,
     "metadata": {},
     "output_type": "execute_result"
    }
   ],
   "source": [
    "loss = torch.zeros(preds.shape)\n",
    "\n",
    "for i in range(preds.shape[-1]):\n",
    "\n",
    "    loss[:,i] = brier_score_loss(y, preds[:,i])\n",
    "    \n",
    "loss.shape, g.shape"
   ]
  },
  {
   "cell_type": "code",
   "execution_count": 11,
   "id": "f21e2b53-705f-44f9-8b21-5d99f1e48abb",
   "metadata": {
    "tags": []
   },
   "outputs": [
    {
     "name": "stdout",
     "output_type": "stream",
     "text": [
      "tensor([0.0681, 0.0681, 0.0681,  ..., 0.0681, 0.0681, 0.0681])\n"
     ]
    }
   ],
   "source": [
    "print(loss[:,0])"
   ]
  },
  {
   "cell_type": "code",
   "execution_count": 12,
   "id": "ccebed1d-17b3-4c48-ae4b-3fd271b0f1cc",
   "metadata": {
    "tags": []
   },
   "outputs": [],
   "source": [
    "p = torch.randperm(loss.size()[0])\n",
    "loss = loss[p,:]\n",
    "g = g[p,:]"
   ]
  },
  {
   "cell_type": "code",
   "execution_count": 13,
   "id": "224b9e9c-8065-46f7-ba6e-cb19969ee33e",
   "metadata": {
    "tags": []
   },
   "outputs": [],
   "source": [
    "train_split = Split(\n",
    "    X=loss[:n_val],\n",
    "    g=g[:n_val]\n",
    ")\n",
    "\n",
    "test_split = Split(\n",
    "    X=loss[n_val:],\n",
    "    g=g[n_val:]\n",
    ")"
   ]
  },
  {
   "cell_type": "code",
   "execution_count": 14,
   "id": "f5380764-42ab-4602-8228-503b5e82bef7",
   "metadata": {
    "tags": []
   },
   "outputs": [
    {
     "data": {
      "text/plain": [
       "[('male', 'black'),\n",
       " ('female', 'black'),\n",
       " ('male', 'white'),\n",
       " ('female', 'white')]"
      ]
     },
     "execution_count": 14,
     "metadata": {},
     "output_type": "execute_result"
    }
   ],
   "source": [
    "interest_vars"
   ]
  },
  {
   "cell_type": "code",
   "execution_count": 15,
   "id": "43f9aee1-b28d-4512-82e8-2742d7d25cd0",
   "metadata": {
    "tags": []
   },
   "outputs": [
    {
     "name": "stdout",
     "output_type": "stream",
     "text": [
      "('male', 'black') torch.Size([295, 100]) (100,)\n",
      "('female', 'black') torch.Size([215, 100]) (100,)\n",
      "('male', 'white') torch.Size([677, 100]) (100,)\n",
      "('female', 'white') torch.Size([322, 100]) (100,)\n"
     ]
    },
    {
     "data": {
      "text/plain": [
       "1509"
      ]
     },
     "execution_count": 15,
     "metadata": {},
     "output_type": "execute_result"
    }
   ],
   "source": [
    "group_aucs = []\n",
    "total_examples = 0\n",
    "\n",
    "for ind, var in enumerate(interest_vars):\n",
    "\n",
    "    inds = []\n",
    "    for g_name in var:\n",
    "        inds.append(var_key.index(g_name))\n",
    "    \n",
    "    g_indices = torch.where((train_split.g[:,inds[0]] == 1) & (train_split.g[:,inds[1]] == 1))\n",
    "    X_g = train_split.X[g_indices]\n",
    "    L_BJ_g = berk_jones_two_sided(X_g.shape[0], correction, 0.0, 1.0)\n",
    "    aucs_g = integrate_quantiles(X_g.T, L_BJ_g)\n",
    "    \n",
    "    print(var, X_g.shape, aucs_g.shape)\n",
    "    \n",
    "    group_aucs.append(torch.Tensor(aucs_g))\n",
    "    \n",
    "    total_examples += X_g.shape[0]\n",
    "\n",
    "group_aucs = torch.vstack(group_aucs)\n",
    "group_diff = (torch.max(group_aucs, 0)[0]).numpy()\n",
    "total_examples"
   ]
  },
  {
   "cell_type": "code",
   "execution_count": 16,
   "id": "577522b6-3fdd-4eea-b9e9-cc9c7d7896b3",
   "metadata": {
    "tags": []
   },
   "outputs": [],
   "source": [
    "full_aucs = torch.mean(group_aucs, 0)"
   ]
  },
  {
   "cell_type": "code",
   "execution_count": 17,
   "id": "2a809269-51df-43c2-8260-54883d61fe69",
   "metadata": {
    "tags": []
   },
   "outputs": [
    {
     "data": {
      "text/plain": [
       "(tensor(5), 0.2262054979801178)"
      ]
     },
     "execution_count": 17,
     "metadata": {},
     "output_type": "execute_result"
    }
   ],
   "source": [
    "total_loss = full_aucs+group_diff\n",
    "\n",
    "best_ind = np.argmin(total_loss)\n",
    "best_guar = total_loss[best_ind].item()\n",
    "best_ind, best_guar"
   ]
  },
  {
   "cell_type": "code",
   "execution_count": 18,
   "id": "26719e0e-0d88-4564-b0ae-9ccf66e34f80",
   "metadata": {
    "tags": []
   },
   "outputs": [
    {
     "data": {
      "text/plain": [
       "(tensor(0.1047),\n",
       " tensor([0.1055, 0.1052, 0.1049, 0.1047, 0.1047, 0.1047, 0.1047, 0.1048, 0.1049,\n",
       "         0.1050, 0.1052, 0.1054, 0.1056, 0.1058, 0.1060, 0.1062, 0.1064, 0.1066,\n",
       "         0.1069, 0.1071, 0.1073, 0.1076, 0.1078, 0.1080, 0.1082, 0.1084, 0.1087,\n",
       "         0.1089, 0.1091, 0.1093, 0.1095, 0.1097, 0.1099, 0.1101, 0.1103, 0.1105,\n",
       "         0.1107, 0.1108, 0.1110, 0.1112, 0.1114, 0.1115, 0.1117, 0.1118, 0.1120,\n",
       "         0.1122, 0.1123, 0.1125, 0.1126, 0.1128, 0.1129, 0.1130, 0.1132, 0.1133,\n",
       "         0.1134, 0.1136, 0.1137, 0.1138, 0.1139, 0.1141, 0.1142, 0.1143, 0.1144,\n",
       "         0.1145, 0.1146, 0.1147, 0.1148, 0.1149, 0.1150, 0.1151, 0.1152, 0.1153,\n",
       "         0.1154, 0.1155, 0.1156, 0.1157, 0.1158, 0.1159, 0.1160, 0.1161, 0.1161,\n",
       "         0.1162, 0.1163, 0.1164, 0.1165, 0.1166, 0.1166, 0.1167, 0.1168, 0.1169,\n",
       "         0.1169, 0.1170, 0.1171, 0.1171, 0.1172, 0.1173, 0.1173, 0.1174, 0.1175,\n",
       "         0.1175]))"
      ]
     },
     "execution_count": 18,
     "metadata": {},
     "output_type": "execute_result"
    }
   ],
   "source": [
    "full_aucs[best_ind], full_aucs"
   ]
  },
  {
   "cell_type": "code",
   "execution_count": 19,
   "id": "a787a8ff-df51-458e-9900-e19657d179f5",
   "metadata": {
    "tags": []
   },
   "outputs": [
    {
     "data": {
      "text/plain": [
       "(0.12155291,\n",
       " array([0.12241436, 0.12204651, 0.12179705, 0.12164322, 0.12156675,\n",
       "        0.12155291, 0.12158976, 0.12166765, 0.12177869, 0.12191644,\n",
       "        0.12207561, 0.12225185, 0.12244158, 0.12264183, 0.12285013,\n",
       "        0.12306444, 0.12328306, 0.12350457, 0.12372779, 0.12395176,\n",
       "        0.12417566, 0.1243988 , 0.12462065, 0.12484073, 0.12505868,\n",
       "        0.1252742 , 0.12548701, 0.12569696, 0.12590387, 0.12610763,\n",
       "        0.12630814, 0.12650537, 0.12669925, 0.12688978, 0.12707694,\n",
       "        0.12726073, 0.1274412 , 0.12761834, 0.12779221, 0.12796283,\n",
       "        0.12813027, 0.12829454, 0.12845574, 0.12861389, 0.12876906,\n",
       "        0.12892132, 0.1290707 , 0.12921727, 0.12936111, 0.12950225,\n",
       "        0.12964076, 0.12977672, 0.12991016, 0.13004114, 0.13016973,\n",
       "        0.13029598, 0.13041995, 0.13054168, 0.13066123, 0.13077867,\n",
       "        0.13089402, 0.13100734, 0.13111869, 0.1312281 , 0.13133562,\n",
       "        0.1314413 , 0.13154519, 0.1316473 , 0.13174771, 0.13184644,\n",
       "        0.13194354, 0.13203903, 0.13213296, 0.13222536, 0.13231628,\n",
       "        0.13240574, 0.13249378, 0.13258041, 0.1326657 , 0.13274965,\n",
       "        0.1328323 , 0.13291368, 0.13299382, 0.13307275, 0.13315047,\n",
       "        0.13322704, 0.13330247, 0.13337678, 0.13345002, 0.13352217,\n",
       "        0.13359328, 0.13366337, 0.13373245, 0.13380057, 0.13386771,\n",
       "        0.13393392, 0.1339992 , 0.13406359, 0.13412708, 0.13418971],\n",
       "       dtype=float32))"
      ]
     },
     "execution_count": 19,
     "metadata": {},
     "output_type": "execute_result"
    }
   ],
   "source": [
    "group_diff[best_ind], group_diff"
   ]
  },
  {
   "cell_type": "code",
   "execution_count": 20,
   "id": "1764cffd-5216-43d4-876e-ce9fc97f442c",
   "metadata": {
    "tags": []
   },
   "outputs": [
    {
     "data": {
      "text/plain": [
       "6891"
      ]
     },
     "execution_count": 20,
     "metadata": {},
     "output_type": "execute_result"
    }
   ],
   "source": [
    "group_test_aucs = []\n",
    "total_test_examples = 0\n",
    "\n",
    "max_loss = 0.0\n",
    "min_loss = 1.0\n",
    "total_risk = 0.0\n",
    "\n",
    "\n",
    "for ind, var in enumerate(interest_vars):\n",
    "\n",
    "    inds = []\n",
    "    for g_name in var:\n",
    "        inds.append(var_key.index(g_name))\n",
    "        \n",
    "    g_indices = torch.where((test_split.g[:,inds[0]] == 1) & (test_split.g[:,inds[1]] == 1))\n",
    "    \n",
    "    X_g = torch.mean(test_split.X[g_indices], 0)\n",
    "    X_g = X_g[best_ind].item()\n",
    "\n",
    "    max_loss = max(max_loss, X_g)\n",
    "    min_loss = min(min_loss, X_g)\n",
    "    total_risk += X_g\n",
    "    \n",
    "    total_test_examples += g_indices[0].shape[0]\n",
    "\n",
    "max_group_diff = max_loss #- min_loss\n",
    "test_exp_loss = total_risk/no_groups\n",
    "test_exp_loss, max_group_diff\n",
    "actual_loss = test_exp_loss + max_group_diff\n",
    "total_test_examples"
   ]
  },
  {
   "cell_type": "markdown",
   "id": "fb943bbe-4cad-4634-a536-20a25f39ab58",
   "metadata": {},
   "source": [
    "We choose a calibration parameter that minimizes an upper bound on:\n",
    "$$\n",
    "E[E[L(g)]]+ \\sup_{g} L(g)\n",
    "$$\n",
    "for $G=\\{\\text{black female}, \\text{white female}, \\text{black male}, \\text{white male}\\}$ and Brier Score loss"
   ]
  },
  {
   "cell_type": "code",
   "execution_count": 21,
   "id": "b10581fa-5a72-41cb-a14c-d07d5df1b264",
   "metadata": {},
   "outputs": [
    {
     "data": {
      "image/png": "[encoded data removed]",
      "text/plain": [
       "<Figure size 1500x300 with 3 Axes>"
      ]
     },
     "metadata": {},
     "output_type": "display_data"
    }
   ],
   "source": [
    "plt.rcParams[\"figure.figsize\"] = (15,3)\n",
    "fig, ax = plt.subplots(1,3) \n",
    "\n",
    "ax[0].scatter(thresholds, full_aucs)\n",
    "ax[0].set_xlabel(\"Threshold\")\n",
    "ax[0].set_ylabel(\"Loss Guarantee\")\n",
    "ax[0].set_title(\"Expected\")\n",
    "\n",
    "ax[1].scatter(thresholds, group_diff)\n",
    "ax[1].set_xlabel(\"Threshold\")\n",
    "ax[1].set_title(\"Max. Group\")\n",
    "\n",
    "ax[2].scatter(thresholds, total_loss)\n",
    "ax[2].set_xlabel(\"Threshold\")\n",
    "ax[2].set_title(\"Total\")\n",
    "\n",
    "plt.show()"
   ]
  },
  {
   "cell_type": "code",
   "execution_count": 22,
   "id": "4927ec74-9650-4152-b865-07b4befb8e1f",
   "metadata": {
    "tags": []
   },
   "outputs": [
    {
     "name": "stdout",
     "output_type": "stream",
     "text": [
      "guarantee: 0.2262054979801178 | actual: 0.13437153212726116\n"
     ]
    }
   ],
   "source": [
    "print(\"guarantee:\", best_guar, \"| actual:\", actual_loss)"
   ]
  },
  {
   "cell_type": "code",
   "execution_count": null,
   "id": "9affc76e-fb54-42ac-983f-4cae440260de",
   "metadata": {},
   "outputs": [],
   "source": []
  }
 ],
 "metadata": {
  "kernelspec": {
   "display_name": "Python 3 (ipykernel)",
   "language": "python",
   "name": "python3"
  },
  "language_info": {
   "codemirror_mode": {
    "name": "ipython",
    "version": 3
   },
   "file_extension": ".py",
   "mimetype": "text/x-python",
   "name": "python",
   "nbconvert_exporter": "python",
   "pygments_lexer": "ipython3",
   "version": "3.10.9"
  }
 },
 "nbformat": 4,
 "nbformat_minor": 5
}
